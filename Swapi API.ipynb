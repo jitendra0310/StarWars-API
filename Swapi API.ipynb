{
 "cells": [
  {
   "cell_type": "markdown",
   "metadata": {},
   "source": [
    "\n",
    " 1. Using the Star Wars API located here: https://swapi.co/\n",
    "- Retrieve a list of all people. \n",
    "- Then, in parallel, build a list of names of all planets and ships associated with\n",
    "  each person.\n",
    "  \n",
    " We first Start by importing Requests, to pull data from the API"
   ]
  },
  {
   "cell_type": "code",
   "execution_count": 2,
   "metadata": {},
   "outputs": [],
   "source": [
    "import requests"
   ]
  },
  {
   "cell_type": "markdown",
   "metadata": {},
   "source": [
    "We found out that there are 9 pages in total for 'People'. Hence, we use a for loop to get all the results and add it to an empty list total_result"
   ]
  },
  {
   "cell_type": "code",
   "execution_count": 3,
   "metadata": {},
   "outputs": [],
   "source": [
    "total_results=[]\n",
    "\n",
    "for num in range(1,10):\n",
    "    url=\"https://swapi.co/api/people/?page=\" + str(num)\n",
    "    response=requests.get(url)\n",
    "    data=response.json()\n",
    "    total_results=total_results + data['results']"
   ]
  },
  {
   "cell_type": "markdown",
   "metadata": {},
   "source": [
    "we get the total_results and the length of it 87."
   ]
  },
  {
   "cell_type": "code",
   "execution_count": 8,
   "metadata": {},
   "outputs": [
    {
     "data": {
      "text/plain": [
       "87"
      ]
     },
     "execution_count": 8,
     "metadata": {},
     "output_type": "execute_result"
    }
   ],
   "source": [
    "len(total_results)"
   ]
  },
  {
   "cell_type": "markdown",
   "metadata": {},
   "source": [
    "We get the list of names of all the people in the results and save it to the 'name' varaible"
   ]
  },
  {
   "cell_type": "code",
   "execution_count": 9,
   "metadata": {},
   "outputs": [],
   "source": [
    "name=[]\n",
    "for n in total_results:\n",
    "    name.append(n['name'])"
   ]
  },
  {
   "cell_type": "code",
   "execution_count": 10,
   "metadata": {
    "scrolled": true
   },
   "outputs": [
    {
     "data": {
      "text/plain": [
       "['Luke Skywalker',\n",
       " 'C-3PO',\n",
       " 'R2-D2',\n",
       " 'Darth Vader',\n",
       " 'Leia Organa',\n",
       " 'Owen Lars',\n",
       " 'Beru Whitesun lars',\n",
       " 'R5-D4',\n",
       " 'Biggs Darklighter',\n",
       " 'Obi-Wan Kenobi',\n",
       " 'Anakin Skywalker',\n",
       " 'Wilhuff Tarkin',\n",
       " 'Chewbacca',\n",
       " 'Han Solo',\n",
       " 'Greedo',\n",
       " 'Jabba Desilijic Tiure',\n",
       " 'Wedge Antilles',\n",
       " 'Jek Tono Porkins',\n",
       " 'Yoda',\n",
       " 'Palpatine',\n",
       " 'Boba Fett',\n",
       " 'IG-88',\n",
       " 'Bossk',\n",
       " 'Lando Calrissian',\n",
       " 'Lobot',\n",
       " 'Ackbar',\n",
       " 'Mon Mothma',\n",
       " 'Arvel Crynyd',\n",
       " 'Wicket Systri Warrick',\n",
       " 'Nien Nunb',\n",
       " 'Qui-Gon Jinn',\n",
       " 'Nute Gunray',\n",
       " 'Finis Valorum',\n",
       " 'Jar Jar Binks',\n",
       " 'Roos Tarpals',\n",
       " 'Rugor Nass',\n",
       " 'Ric Olié',\n",
       " 'Watto',\n",
       " 'Sebulba',\n",
       " 'Quarsh Panaka',\n",
       " 'Shmi Skywalker',\n",
       " 'Darth Maul',\n",
       " 'Bib Fortuna',\n",
       " 'Ayla Secura',\n",
       " 'Dud Bolt',\n",
       " 'Gasgano',\n",
       " 'Ben Quadinaros',\n",
       " 'Mace Windu',\n",
       " 'Ki-Adi-Mundi',\n",
       " 'Kit Fisto',\n",
       " 'Eeth Koth',\n",
       " 'Adi Gallia',\n",
       " 'Saesee Tiin',\n",
       " 'Yarael Poof',\n",
       " 'Plo Koon',\n",
       " 'Mas Amedda',\n",
       " 'Gregar Typho',\n",
       " 'Cordé',\n",
       " 'Cliegg Lars',\n",
       " 'Poggle the Lesser',\n",
       " 'Luminara Unduli',\n",
       " 'Barriss Offee',\n",
       " 'Dormé',\n",
       " 'Dooku',\n",
       " 'Bail Prestor Organa',\n",
       " 'Jango Fett',\n",
       " 'Zam Wesell',\n",
       " 'Dexter Jettster',\n",
       " 'Lama Su',\n",
       " 'Taun We',\n",
       " 'Jocasta Nu',\n",
       " 'Ratts Tyerell',\n",
       " 'R4-P17',\n",
       " 'Wat Tambor',\n",
       " 'San Hill',\n",
       " 'Shaak Ti',\n",
       " 'Grievous',\n",
       " 'Tarfful',\n",
       " 'Raymus Antilles',\n",
       " 'Sly Moore',\n",
       " 'Tion Medon',\n",
       " 'Finn',\n",
       " 'Rey',\n",
       " 'Poe Dameron',\n",
       " 'BB8',\n",
       " 'Captain Phasma',\n",
       " 'Padmé Amidala']"
      ]
     },
     "execution_count": 10,
     "metadata": {},
     "output_type": "execute_result"
    }
   ],
   "source": [
    "name"
   ]
  },
  {
   "cell_type": "markdown",
   "metadata": {},
   "source": [
    "Using the for loops, we get the dictioneries for planet and ship"
   ]
  },
  {
   "cell_type": "code",
   "execution_count": 11,
   "metadata": {},
   "outputs": [],
   "source": [
    "planet={d['name']:d['homeworld'] for d in total_results}\n",
    "ship={d['name']:d['starships'] for d in total_results}"
   ]
  },
  {
   "cell_type": "code",
   "execution_count": 12,
   "metadata": {
    "scrolled": true
   },
   "outputs": [
    {
     "data": {
      "text/plain": [
       "{'Luke Skywalker': 'https://swapi.co/api/planets/1/',\n",
       " 'C-3PO': 'https://swapi.co/api/planets/1/',\n",
       " 'R2-D2': 'https://swapi.co/api/planets/8/',\n",
       " 'Darth Vader': 'https://swapi.co/api/planets/1/',\n",
       " 'Leia Organa': 'https://swapi.co/api/planets/2/',\n",
       " 'Owen Lars': 'https://swapi.co/api/planets/1/',\n",
       " 'Beru Whitesun lars': 'https://swapi.co/api/planets/1/',\n",
       " 'R5-D4': 'https://swapi.co/api/planets/1/',\n",
       " 'Biggs Darklighter': 'https://swapi.co/api/planets/1/',\n",
       " 'Obi-Wan Kenobi': 'https://swapi.co/api/planets/20/',\n",
       " 'Anakin Skywalker': 'https://swapi.co/api/planets/1/',\n",
       " 'Wilhuff Tarkin': 'https://swapi.co/api/planets/21/',\n",
       " 'Chewbacca': 'https://swapi.co/api/planets/14/',\n",
       " 'Han Solo': 'https://swapi.co/api/planets/22/',\n",
       " 'Greedo': 'https://swapi.co/api/planets/23/',\n",
       " 'Jabba Desilijic Tiure': 'https://swapi.co/api/planets/24/',\n",
       " 'Wedge Antilles': 'https://swapi.co/api/planets/22/',\n",
       " 'Jek Tono Porkins': 'https://swapi.co/api/planets/26/',\n",
       " 'Yoda': 'https://swapi.co/api/planets/28/',\n",
       " 'Palpatine': 'https://swapi.co/api/planets/8/',\n",
       " 'Boba Fett': 'https://swapi.co/api/planets/10/',\n",
       " 'IG-88': 'https://swapi.co/api/planets/28/',\n",
       " 'Bossk': 'https://swapi.co/api/planets/29/',\n",
       " 'Lando Calrissian': 'https://swapi.co/api/planets/30/',\n",
       " 'Lobot': 'https://swapi.co/api/planets/6/',\n",
       " 'Ackbar': 'https://swapi.co/api/planets/31/',\n",
       " 'Mon Mothma': 'https://swapi.co/api/planets/32/',\n",
       " 'Arvel Crynyd': 'https://swapi.co/api/planets/28/',\n",
       " 'Wicket Systri Warrick': 'https://swapi.co/api/planets/7/',\n",
       " 'Nien Nunb': 'https://swapi.co/api/planets/33/',\n",
       " 'Qui-Gon Jinn': 'https://swapi.co/api/planets/28/',\n",
       " 'Nute Gunray': 'https://swapi.co/api/planets/18/',\n",
       " 'Finis Valorum': 'https://swapi.co/api/planets/9/',\n",
       " 'Jar Jar Binks': 'https://swapi.co/api/planets/8/',\n",
       " 'Roos Tarpals': 'https://swapi.co/api/planets/8/',\n",
       " 'Rugor Nass': 'https://swapi.co/api/planets/8/',\n",
       " 'Ric Olié': 'https://swapi.co/api/planets/8/',\n",
       " 'Watto': 'https://swapi.co/api/planets/34/',\n",
       " 'Sebulba': 'https://swapi.co/api/planets/35/',\n",
       " 'Quarsh Panaka': 'https://swapi.co/api/planets/8/',\n",
       " 'Shmi Skywalker': 'https://swapi.co/api/planets/1/',\n",
       " 'Darth Maul': 'https://swapi.co/api/planets/36/',\n",
       " 'Bib Fortuna': 'https://swapi.co/api/planets/37/',\n",
       " 'Ayla Secura': 'https://swapi.co/api/planets/37/',\n",
       " 'Dud Bolt': 'https://swapi.co/api/planets/39/',\n",
       " 'Gasgano': 'https://swapi.co/api/planets/40/',\n",
       " 'Ben Quadinaros': 'https://swapi.co/api/planets/41/',\n",
       " 'Mace Windu': 'https://swapi.co/api/planets/42/',\n",
       " 'Ki-Adi-Mundi': 'https://swapi.co/api/planets/43/',\n",
       " 'Kit Fisto': 'https://swapi.co/api/planets/44/',\n",
       " 'Eeth Koth': 'https://swapi.co/api/planets/45/',\n",
       " 'Adi Gallia': 'https://swapi.co/api/planets/9/',\n",
       " 'Saesee Tiin': 'https://swapi.co/api/planets/47/',\n",
       " 'Yarael Poof': 'https://swapi.co/api/planets/48/',\n",
       " 'Plo Koon': 'https://swapi.co/api/planets/49/',\n",
       " 'Mas Amedda': 'https://swapi.co/api/planets/50/',\n",
       " 'Gregar Typho': 'https://swapi.co/api/planets/8/',\n",
       " 'Cordé': 'https://swapi.co/api/planets/8/',\n",
       " 'Cliegg Lars': 'https://swapi.co/api/planets/1/',\n",
       " 'Poggle the Lesser': 'https://swapi.co/api/planets/11/',\n",
       " 'Luminara Unduli': 'https://swapi.co/api/planets/51/',\n",
       " 'Barriss Offee': 'https://swapi.co/api/planets/51/',\n",
       " 'Dormé': 'https://swapi.co/api/planets/8/',\n",
       " 'Dooku': 'https://swapi.co/api/planets/52/',\n",
       " 'Bail Prestor Organa': 'https://swapi.co/api/planets/2/',\n",
       " 'Jango Fett': 'https://swapi.co/api/planets/53/',\n",
       " 'Zam Wesell': 'https://swapi.co/api/planets/54/',\n",
       " 'Dexter Jettster': 'https://swapi.co/api/planets/55/',\n",
       " 'Lama Su': 'https://swapi.co/api/planets/10/',\n",
       " 'Taun We': 'https://swapi.co/api/planets/10/',\n",
       " 'Jocasta Nu': 'https://swapi.co/api/planets/9/',\n",
       " 'Ratts Tyerell': 'https://swapi.co/api/planets/38/',\n",
       " 'R4-P17': 'https://swapi.co/api/planets/28/',\n",
       " 'Wat Tambor': 'https://swapi.co/api/planets/56/',\n",
       " 'San Hill': 'https://swapi.co/api/planets/57/',\n",
       " 'Shaak Ti': 'https://swapi.co/api/planets/58/',\n",
       " 'Grievous': 'https://swapi.co/api/planets/59/',\n",
       " 'Tarfful': 'https://swapi.co/api/planets/14/',\n",
       " 'Raymus Antilles': 'https://swapi.co/api/planets/2/',\n",
       " 'Sly Moore': 'https://swapi.co/api/planets/60/',\n",
       " 'Tion Medon': 'https://swapi.co/api/planets/12/',\n",
       " 'Finn': 'https://swapi.co/api/planets/28/',\n",
       " 'Rey': 'https://swapi.co/api/planets/28/',\n",
       " 'Poe Dameron': 'https://swapi.co/api/planets/28/',\n",
       " 'BB8': 'https://swapi.co/api/planets/28/',\n",
       " 'Captain Phasma': 'https://swapi.co/api/planets/28/',\n",
       " 'Padmé Amidala': 'https://swapi.co/api/planets/8/'}"
      ]
     },
     "execution_count": 12,
     "metadata": {},
     "output_type": "execute_result"
    }
   ],
   "source": [
    "planet"
   ]
  },
  {
   "cell_type": "code",
   "execution_count": 13,
   "metadata": {
    "scrolled": true
   },
   "outputs": [
    {
     "data": {
      "text/plain": [
       "{'Luke Skywalker': ['https://swapi.co/api/starships/12/',\n",
       "  'https://swapi.co/api/starships/22/'],\n",
       " 'C-3PO': [],\n",
       " 'R2-D2': [],\n",
       " 'Darth Vader': ['https://swapi.co/api/starships/13/'],\n",
       " 'Leia Organa': [],\n",
       " 'Owen Lars': [],\n",
       " 'Beru Whitesun lars': [],\n",
       " 'R5-D4': [],\n",
       " 'Biggs Darklighter': ['https://swapi.co/api/starships/12/'],\n",
       " 'Obi-Wan Kenobi': ['https://swapi.co/api/starships/48/',\n",
       "  'https://swapi.co/api/starships/59/',\n",
       "  'https://swapi.co/api/starships/64/',\n",
       "  'https://swapi.co/api/starships/65/',\n",
       "  'https://swapi.co/api/starships/74/'],\n",
       " 'Anakin Skywalker': ['https://swapi.co/api/starships/59/',\n",
       "  'https://swapi.co/api/starships/65/',\n",
       "  'https://swapi.co/api/starships/39/'],\n",
       " 'Wilhuff Tarkin': [],\n",
       " 'Chewbacca': ['https://swapi.co/api/starships/10/',\n",
       "  'https://swapi.co/api/starships/22/'],\n",
       " 'Han Solo': ['https://swapi.co/api/starships/10/',\n",
       "  'https://swapi.co/api/starships/22/'],\n",
       " 'Greedo': [],\n",
       " 'Jabba Desilijic Tiure': [],\n",
       " 'Wedge Antilles': ['https://swapi.co/api/starships/12/'],\n",
       " 'Jek Tono Porkins': ['https://swapi.co/api/starships/12/'],\n",
       " 'Yoda': [],\n",
       " 'Palpatine': [],\n",
       " 'Boba Fett': ['https://swapi.co/api/starships/21/'],\n",
       " 'IG-88': [],\n",
       " 'Bossk': [],\n",
       " 'Lando Calrissian': ['https://swapi.co/api/starships/10/'],\n",
       " 'Lobot': [],\n",
       " 'Ackbar': [],\n",
       " 'Mon Mothma': [],\n",
       " 'Arvel Crynyd': ['https://swapi.co/api/starships/28/'],\n",
       " 'Wicket Systri Warrick': [],\n",
       " 'Nien Nunb': ['https://swapi.co/api/starships/10/'],\n",
       " 'Qui-Gon Jinn': [],\n",
       " 'Nute Gunray': [],\n",
       " 'Finis Valorum': [],\n",
       " 'Jar Jar Binks': [],\n",
       " 'Roos Tarpals': [],\n",
       " 'Rugor Nass': [],\n",
       " 'Ric Olié': ['https://swapi.co/api/starships/40/'],\n",
       " 'Watto': [],\n",
       " 'Sebulba': [],\n",
       " 'Quarsh Panaka': [],\n",
       " 'Shmi Skywalker': [],\n",
       " 'Darth Maul': ['https://swapi.co/api/starships/41/'],\n",
       " 'Bib Fortuna': [],\n",
       " 'Ayla Secura': [],\n",
       " 'Dud Bolt': [],\n",
       " 'Gasgano': [],\n",
       " 'Ben Quadinaros': [],\n",
       " 'Mace Windu': [],\n",
       " 'Ki-Adi-Mundi': [],\n",
       " 'Kit Fisto': [],\n",
       " 'Eeth Koth': [],\n",
       " 'Adi Gallia': [],\n",
       " 'Saesee Tiin': [],\n",
       " 'Yarael Poof': [],\n",
       " 'Plo Koon': ['https://swapi.co/api/starships/48/'],\n",
       " 'Mas Amedda': [],\n",
       " 'Gregar Typho': ['https://swapi.co/api/starships/39/'],\n",
       " 'Cordé': [],\n",
       " 'Cliegg Lars': [],\n",
       " 'Poggle the Lesser': [],\n",
       " 'Luminara Unduli': [],\n",
       " 'Barriss Offee': [],\n",
       " 'Dormé': [],\n",
       " 'Dooku': [],\n",
       " 'Bail Prestor Organa': [],\n",
       " 'Jango Fett': [],\n",
       " 'Zam Wesell': [],\n",
       " 'Dexter Jettster': [],\n",
       " 'Lama Su': [],\n",
       " 'Taun We': [],\n",
       " 'Jocasta Nu': [],\n",
       " 'Ratts Tyerell': [],\n",
       " 'R4-P17': [],\n",
       " 'Wat Tambor': [],\n",
       " 'San Hill': [],\n",
       " 'Shaak Ti': [],\n",
       " 'Grievous': ['https://swapi.co/api/starships/74/'],\n",
       " 'Tarfful': [],\n",
       " 'Raymus Antilles': [],\n",
       " 'Sly Moore': [],\n",
       " 'Tion Medon': [],\n",
       " 'Finn': [],\n",
       " 'Rey': [],\n",
       " 'Poe Dameron': ['https://swapi.co/api/starships/77/'],\n",
       " 'BB8': [],\n",
       " 'Captain Phasma': [],\n",
       " 'Padmé Amidala': ['https://swapi.co/api/starships/49/',\n",
       "  'https://swapi.co/api/starships/64/',\n",
       "  'https://swapi.co/api/starships/39/']}"
      ]
     },
     "execution_count": 13,
     "metadata": {},
     "output_type": "execute_result"
    }
   ],
   "source": [
    "ship"
   ]
  },
  {
   "cell_type": "markdown",
   "metadata": {},
   "source": [
    "Every person in the planet dictionery is associated with the planet in the form of 'key, value pair in planet dictionery. \n",
    "similarly, every person is key, planet being the value in ship Dictionery\n",
    "\n",
    "\n",
    "By importing the defaultdict, and using the requests.get, the name of the planet from the url is fetched and mapped with the corresponding 'name' key"
   ]
  },
  {
   "cell_type": "code",
   "execution_count": 16,
   "metadata": {
    "scrolled": true
   },
   "outputs": [],
   "source": [
    "from collections import defaultdict\n",
    "def Planet_name(files):\n",
    "    files=list(files.items())\n",
    "    ans=defaultdict(list)\n",
    "\n",
    "    for k,v in planet.items():\n",
    "        v=requests.get(v)\n",
    "        v=v.json()\n",
    "        v=v['name']\n",
    "        ans[k].append(v)\n",
    "    return dict(ans)"
   ]
  },
  {
   "cell_type": "code",
   "execution_count": 17,
   "metadata": {},
   "outputs": [],
   "source": [
    "planet_mapped=Planet_name(planet)"
   ]
  },
  {
   "cell_type": "markdown",
   "metadata": {},
   "source": [
    "Thus, the list of name, planet dictionery is created"
   ]
  },
  {
   "cell_type": "code",
   "execution_count": 18,
   "metadata": {
    "scrolled": true
   },
   "outputs": [
    {
     "data": {
      "text/plain": [
       "{'Luke Skywalker': ['Tatooine'],\n",
       " 'C-3PO': ['Tatooine'],\n",
       " 'R2-D2': ['Naboo'],\n",
       " 'Darth Vader': ['Tatooine'],\n",
       " 'Leia Organa': ['Alderaan'],\n",
       " 'Owen Lars': ['Tatooine'],\n",
       " 'Beru Whitesun lars': ['Tatooine'],\n",
       " 'R5-D4': ['Tatooine'],\n",
       " 'Biggs Darklighter': ['Tatooine'],\n",
       " 'Obi-Wan Kenobi': ['Stewjon'],\n",
       " 'Anakin Skywalker': ['Tatooine'],\n",
       " 'Wilhuff Tarkin': ['Eriadu'],\n",
       " 'Chewbacca': ['Kashyyyk'],\n",
       " 'Han Solo': ['Corellia'],\n",
       " 'Greedo': ['Rodia'],\n",
       " 'Jabba Desilijic Tiure': ['Nal Hutta'],\n",
       " 'Wedge Antilles': ['Corellia'],\n",
       " 'Jek Tono Porkins': ['Bestine IV'],\n",
       " 'Yoda': ['unknown'],\n",
       " 'Palpatine': ['Naboo'],\n",
       " 'Boba Fett': ['Kamino'],\n",
       " 'IG-88': ['unknown'],\n",
       " 'Bossk': ['Trandosha'],\n",
       " 'Lando Calrissian': ['Socorro'],\n",
       " 'Lobot': ['Bespin'],\n",
       " 'Ackbar': ['Mon Cala'],\n",
       " 'Mon Mothma': ['Chandrila'],\n",
       " 'Arvel Crynyd': ['unknown'],\n",
       " 'Wicket Systri Warrick': ['Endor'],\n",
       " 'Nien Nunb': ['Sullust'],\n",
       " 'Qui-Gon Jinn': ['unknown'],\n",
       " 'Nute Gunray': ['Cato Neimoidia'],\n",
       " 'Finis Valorum': ['Coruscant'],\n",
       " 'Jar Jar Binks': ['Naboo'],\n",
       " 'Roos Tarpals': ['Naboo'],\n",
       " 'Rugor Nass': ['Naboo'],\n",
       " 'Ric Olié': ['Naboo'],\n",
       " 'Watto': ['Toydaria'],\n",
       " 'Sebulba': ['Malastare'],\n",
       " 'Quarsh Panaka': ['Naboo'],\n",
       " 'Shmi Skywalker': ['Tatooine'],\n",
       " 'Darth Maul': ['Dathomir'],\n",
       " 'Bib Fortuna': ['Ryloth'],\n",
       " 'Ayla Secura': ['Ryloth'],\n",
       " 'Dud Bolt': ['Vulpter'],\n",
       " 'Gasgano': ['Troiken'],\n",
       " 'Ben Quadinaros': ['Tund'],\n",
       " 'Mace Windu': ['Haruun Kal'],\n",
       " 'Ki-Adi-Mundi': ['Cerea'],\n",
       " 'Kit Fisto': ['Glee Anselm'],\n",
       " 'Eeth Koth': ['Iridonia'],\n",
       " 'Adi Gallia': ['Coruscant'],\n",
       " 'Saesee Tiin': ['Iktotch'],\n",
       " 'Yarael Poof': ['Quermia'],\n",
       " 'Plo Koon': ['Dorin'],\n",
       " 'Mas Amedda': ['Champala'],\n",
       " 'Gregar Typho': ['Naboo'],\n",
       " 'Cordé': ['Naboo'],\n",
       " 'Cliegg Lars': ['Tatooine'],\n",
       " 'Poggle the Lesser': ['Geonosis'],\n",
       " 'Luminara Unduli': ['Mirial'],\n",
       " 'Barriss Offee': ['Mirial'],\n",
       " 'Dormé': ['Naboo'],\n",
       " 'Dooku': ['Serenno'],\n",
       " 'Bail Prestor Organa': ['Alderaan'],\n",
       " 'Jango Fett': ['Concord Dawn'],\n",
       " 'Zam Wesell': ['Zolan'],\n",
       " 'Dexter Jettster': ['Ojom'],\n",
       " 'Lama Su': ['Kamino'],\n",
       " 'Taun We': ['Kamino'],\n",
       " 'Jocasta Nu': ['Coruscant'],\n",
       " 'Ratts Tyerell': ['Aleen Minor'],\n",
       " 'R4-P17': ['unknown'],\n",
       " 'Wat Tambor': ['Skako'],\n",
       " 'San Hill': ['Muunilinst'],\n",
       " 'Shaak Ti': ['Shili'],\n",
       " 'Grievous': ['Kalee'],\n",
       " 'Tarfful': ['Kashyyyk'],\n",
       " 'Raymus Antilles': ['Alderaan'],\n",
       " 'Sly Moore': ['Umbara'],\n",
       " 'Tion Medon': ['Utapau'],\n",
       " 'Finn': ['unknown'],\n",
       " 'Rey': ['unknown'],\n",
       " 'Poe Dameron': ['unknown'],\n",
       " 'BB8': ['unknown'],\n",
       " 'Captain Phasma': ['unknown'],\n",
       " 'Padmé Amidala': ['Naboo']}"
      ]
     },
     "execution_count": 18,
     "metadata": {},
     "output_type": "execute_result"
    }
   ],
   "source": [
    "planet_mapped"
   ]
  },
  {
   "cell_type": "markdown",
   "metadata": {},
   "source": [
    "Similarly, a function for ship dictionery is also created to get the name of the ships associated with each person"
   ]
  },
  {
   "cell_type": "code",
   "execution_count": 19,
   "metadata": {},
   "outputs": [],
   "source": [
    "def ship_name(files):\n",
    "    files=list(files.items())\n",
    "    ans=defaultdict(list)\n",
    "\n",
    "    for k,v in ship.items():\n",
    "        for x in v:\n",
    "            \n",
    "            x=requests.get(x)\n",
    "            x=x.json()\n",
    "            x=x['name']\n",
    "            ans[k].append(x)\n",
    "            \n",
    "    return dict(ans)"
   ]
  },
  {
   "cell_type": "code",
   "execution_count": 20,
   "metadata": {},
   "outputs": [],
   "source": [
    "ship_mapped=ship_name(ship)"
   ]
  },
  {
   "cell_type": "markdown",
   "metadata": {},
   "source": [
    "Thus, the list of name, ship dictionery is created"
   ]
  },
  {
   "cell_type": "code",
   "execution_count": 21,
   "metadata": {
    "scrolled": true
   },
   "outputs": [
    {
     "data": {
      "text/plain": [
       "{'Luke Skywalker': ['X-wing', 'Imperial shuttle'],\n",
       " 'Darth Vader': ['TIE Advanced x1'],\n",
       " 'Biggs Darklighter': ['X-wing'],\n",
       " 'Obi-Wan Kenobi': ['Jedi starfighter',\n",
       "  'Trade Federation cruiser',\n",
       "  'Naboo star skiff',\n",
       "  'Jedi Interceptor',\n",
       "  'Belbullab-22 starfighter'],\n",
       " 'Anakin Skywalker': ['Trade Federation cruiser',\n",
       "  'Jedi Interceptor',\n",
       "  'Naboo fighter'],\n",
       " 'Chewbacca': ['Millennium Falcon', 'Imperial shuttle'],\n",
       " 'Han Solo': ['Millennium Falcon', 'Imperial shuttle'],\n",
       " 'Wedge Antilles': ['X-wing'],\n",
       " 'Jek Tono Porkins': ['X-wing'],\n",
       " 'Boba Fett': ['Slave 1'],\n",
       " 'Lando Calrissian': ['Millennium Falcon'],\n",
       " 'Arvel Crynyd': ['A-wing'],\n",
       " 'Nien Nunb': ['Millennium Falcon'],\n",
       " 'Ric Olié': ['Naboo Royal Starship'],\n",
       " 'Darth Maul': ['Scimitar'],\n",
       " 'Plo Koon': ['Jedi starfighter'],\n",
       " 'Gregar Typho': ['Naboo fighter'],\n",
       " 'Grievous': ['Belbullab-22 starfighter'],\n",
       " 'Poe Dameron': ['T-70 X-wing fighter'],\n",
       " 'Padmé Amidala': ['H-type Nubian yacht', 'Naboo star skiff', 'Naboo fighter']}"
      ]
     },
     "execution_count": 21,
     "metadata": {},
     "output_type": "execute_result"
    }
   ],
   "source": [
    "ship_mapped"
   ]
  },
  {
   "cell_type": "markdown",
   "metadata": {},
   "source": [
    "Now, importing the collections and Using the defaultdic, the two dictioneries planet_mapped and ship_mapped are merged. where the key, value pairs are mapped from 2 dictioneries and creates one final dictionery. "
   ]
  },
  {
   "cell_type": "code",
   "execution_count": 26,
   "metadata": {},
   "outputs": [],
   "source": [
    "import collections\n",
    "def final(dicts):\n",
    "    ans = collections.defaultdict(list)\n",
    "    for d in dicts:\n",
    "        for k, v in d.items():  \n",
    "            ans[k].append(v)\n",
    "    return dict(ans)"
   ]
  },
  {
   "cell_type": "code",
   "execution_count": 27,
   "metadata": {},
   "outputs": [],
   "source": [
    "dicts=[planet_mapped,ship_mapped]"
   ]
  },
  {
   "cell_type": "code",
   "execution_count": 28,
   "metadata": {},
   "outputs": [],
   "source": [
    "final_names=final(dicts)"
   ]
  },
  {
   "cell_type": "markdown",
   "metadata": {},
   "source": [
    "Hence, the name of the planet and ship is mapped to each person.\n",
    "example :- \n",
    "Luke Skywalker is from planet 'Tatoonie' and drives 'X-wig' and 'Imerial Shuttle' "
   ]
  },
  {
   "cell_type": "code",
   "execution_count": 29,
   "metadata": {
    "scrolled": true
   },
   "outputs": [
    {
     "data": {
      "text/plain": [
       "{'Luke Skywalker': [['Tatooine'], ['X-wing', 'Imperial shuttle']],\n",
       " 'C-3PO': [['Tatooine']],\n",
       " 'R2-D2': [['Naboo']],\n",
       " 'Darth Vader': [['Tatooine'], ['TIE Advanced x1']],\n",
       " 'Leia Organa': [['Alderaan']],\n",
       " 'Owen Lars': [['Tatooine']],\n",
       " 'Beru Whitesun lars': [['Tatooine']],\n",
       " 'R5-D4': [['Tatooine']],\n",
       " 'Biggs Darklighter': [['Tatooine'], ['X-wing']],\n",
       " 'Obi-Wan Kenobi': [['Stewjon'],\n",
       "  ['Jedi starfighter',\n",
       "   'Trade Federation cruiser',\n",
       "   'Naboo star skiff',\n",
       "   'Jedi Interceptor',\n",
       "   'Belbullab-22 starfighter']],\n",
       " 'Anakin Skywalker': [['Tatooine'],\n",
       "  ['Trade Federation cruiser', 'Jedi Interceptor', 'Naboo fighter']],\n",
       " 'Wilhuff Tarkin': [['Eriadu']],\n",
       " 'Chewbacca': [['Kashyyyk'], ['Millennium Falcon', 'Imperial shuttle']],\n",
       " 'Han Solo': [['Corellia'], ['Millennium Falcon', 'Imperial shuttle']],\n",
       " 'Greedo': [['Rodia']],\n",
       " 'Jabba Desilijic Tiure': [['Nal Hutta']],\n",
       " 'Wedge Antilles': [['Corellia'], ['X-wing']],\n",
       " 'Jek Tono Porkins': [['Bestine IV'], ['X-wing']],\n",
       " 'Yoda': [['unknown']],\n",
       " 'Palpatine': [['Naboo']],\n",
       " 'Boba Fett': [['Kamino'], ['Slave 1']],\n",
       " 'IG-88': [['unknown']],\n",
       " 'Bossk': [['Trandosha']],\n",
       " 'Lando Calrissian': [['Socorro'], ['Millennium Falcon']],\n",
       " 'Lobot': [['Bespin']],\n",
       " 'Ackbar': [['Mon Cala']],\n",
       " 'Mon Mothma': [['Chandrila']],\n",
       " 'Arvel Crynyd': [['unknown'], ['A-wing']],\n",
       " 'Wicket Systri Warrick': [['Endor']],\n",
       " 'Nien Nunb': [['Sullust'], ['Millennium Falcon']],\n",
       " 'Qui-Gon Jinn': [['unknown']],\n",
       " 'Nute Gunray': [['Cato Neimoidia']],\n",
       " 'Finis Valorum': [['Coruscant']],\n",
       " 'Jar Jar Binks': [['Naboo']],\n",
       " 'Roos Tarpals': [['Naboo']],\n",
       " 'Rugor Nass': [['Naboo']],\n",
       " 'Ric Olié': [['Naboo'], ['Naboo Royal Starship']],\n",
       " 'Watto': [['Toydaria']],\n",
       " 'Sebulba': [['Malastare']],\n",
       " 'Quarsh Panaka': [['Naboo']],\n",
       " 'Shmi Skywalker': [['Tatooine']],\n",
       " 'Darth Maul': [['Dathomir'], ['Scimitar']],\n",
       " 'Bib Fortuna': [['Ryloth']],\n",
       " 'Ayla Secura': [['Ryloth']],\n",
       " 'Dud Bolt': [['Vulpter']],\n",
       " 'Gasgano': [['Troiken']],\n",
       " 'Ben Quadinaros': [['Tund']],\n",
       " 'Mace Windu': [['Haruun Kal']],\n",
       " 'Ki-Adi-Mundi': [['Cerea']],\n",
       " 'Kit Fisto': [['Glee Anselm']],\n",
       " 'Eeth Koth': [['Iridonia']],\n",
       " 'Adi Gallia': [['Coruscant']],\n",
       " 'Saesee Tiin': [['Iktotch']],\n",
       " 'Yarael Poof': [['Quermia']],\n",
       " 'Plo Koon': [['Dorin'], ['Jedi starfighter']],\n",
       " 'Mas Amedda': [['Champala']],\n",
       " 'Gregar Typho': [['Naboo'], ['Naboo fighter']],\n",
       " 'Cordé': [['Naboo']],\n",
       " 'Cliegg Lars': [['Tatooine']],\n",
       " 'Poggle the Lesser': [['Geonosis']],\n",
       " 'Luminara Unduli': [['Mirial']],\n",
       " 'Barriss Offee': [['Mirial']],\n",
       " 'Dormé': [['Naboo']],\n",
       " 'Dooku': [['Serenno']],\n",
       " 'Bail Prestor Organa': [['Alderaan']],\n",
       " 'Jango Fett': [['Concord Dawn']],\n",
       " 'Zam Wesell': [['Zolan']],\n",
       " 'Dexter Jettster': [['Ojom']],\n",
       " 'Lama Su': [['Kamino']],\n",
       " 'Taun We': [['Kamino']],\n",
       " 'Jocasta Nu': [['Coruscant']],\n",
       " 'Ratts Tyerell': [['Aleen Minor']],\n",
       " 'R4-P17': [['unknown']],\n",
       " 'Wat Tambor': [['Skako']],\n",
       " 'San Hill': [['Muunilinst']],\n",
       " 'Shaak Ti': [['Shili']],\n",
       " 'Grievous': [['Kalee'], ['Belbullab-22 starfighter']],\n",
       " 'Tarfful': [['Kashyyyk']],\n",
       " 'Raymus Antilles': [['Alderaan']],\n",
       " 'Sly Moore': [['Umbara']],\n",
       " 'Tion Medon': [['Utapau']],\n",
       " 'Finn': [['unknown']],\n",
       " 'Rey': [['unknown']],\n",
       " 'Poe Dameron': [['unknown'], ['T-70 X-wing fighter']],\n",
       " 'BB8': [['unknown']],\n",
       " 'Captain Phasma': [['unknown']],\n",
       " 'Padmé Amidala': [['Naboo'],\n",
       "  ['H-type Nubian yacht', 'Naboo star skiff', 'Naboo fighter']]}"
      ]
     },
     "execution_count": 29,
     "metadata": {},
     "output_type": "execute_result"
    }
   ],
   "source": [
    "(final_names)"
   ]
  }
 ],
 "metadata": {
  "kernelspec": {
   "display_name": "Python 3",
   "language": "python",
   "name": "python3"
  },
  "language_info": {
   "codemirror_mode": {
    "name": "ipython",
    "version": 3
   },
   "file_extension": ".py",
   "mimetype": "text/x-python",
   "name": "python",
   "nbconvert_exporter": "python",
   "pygments_lexer": "ipython3",
   "version": "3.7.3"
  }
 },
 "nbformat": 4,
 "nbformat_minor": 2
}
